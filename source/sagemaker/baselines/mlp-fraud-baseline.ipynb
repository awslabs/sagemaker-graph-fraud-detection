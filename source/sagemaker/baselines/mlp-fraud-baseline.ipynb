{
 "cells": [
  {
   "cell_type": "markdown",
   "metadata": {},
   "source": [
    "# Baseline MLP Model\n",
    "## Training a Feed-foward Neural Network with node features"
   ]
  },
  {
   "cell_type": "code",
   "execution_count": null,
   "metadata": {},
   "outputs": [],
   "source": [
    "from utils import get_data\n",
    "import os\n",
    "os.chdir(\"../\")\n",
    "\n",
    "import pandas as pd\n",
    "import numpy as np\n",
    "\n",
    "!bash setup.sh"
   ]
  },
  {
   "cell_type": "markdown",
   "metadata": {},
   "source": [
    "## Read data and upload to S3"
   ]
  },
  {
   "cell_type": "code",
   "execution_count": null,
   "metadata": {},
   "outputs": [],
   "source": [
    "import io\n",
    "from scipy.sparse import csr_matrix, save_npz  \n",
    "\n",
    "train_X, train_y, test_X, test_y = get_data()\n",
    "\n",
    "train_X.loc[:, 0] = train_y.values\n",
    "sparse_matrix = csr_matrix(train_X.values)\n",
    "filename = 'mlp-fraud-dataset.npz'\n",
    "save_npz(filename, sparse_matrix, compressed=True)"
   ]
  },
  {
   "cell_type": "code",
   "execution_count": null,
   "metadata": {},
   "outputs": [],
   "source": [
    "import os\n",
    "import sagemaker\n",
    "from sagemaker.s3 import S3Uploader\n",
    "\n",
    "from sagemaker_graph_fraud_detection import config\n",
    "\n",
    "role = config.role\n",
    "\n",
    "session = sagemaker.Session()\n",
    "bucket = config.solution_bucket\n",
    "prefix = 'mlp-fraud-detection'\n",
    "\n",
    "s3_train_data = S3Uploader.upload(filename, 's3://{}/{}/{}'.format(bucket, prefix,'train'))\n",
    "print('Uploaded training data location: {}'.format(s3_train_data))\n",
    "\n",
    "output_location = 's3://{}/{}/output'.format(bucket, prefix)\n",
    "print('Training artifacts will be uploaded to: {}'.format(output_location))"
   ]
  },
  {
   "cell_type": "markdown",
   "metadata": {},
   "source": [
    "## Train SageMaker MXNet Estimator"
   ]
  },
  {
   "cell_type": "code",
   "execution_count": null,
   "metadata": {},
   "outputs": [],
   "source": [
    "from sagemaker import get_execution_role\n",
    "from sagemaker.mxnet import MXNet\n",
    "\n",
    "params = {'num-gpus': 1,\n",
    "          'n-layers': 5,\n",
    "          'n-epochs': 100,\n",
    "          'optimizer': 'adam',\n",
    "          'lr': 1e-2\n",
    "        } \n",
    "\n",
    "mlp = MXNet(entry_point='baselines/mlp_fraud_entry_point.py',\n",
    "            role=role, \n",
    "            train_instance_count=1, \n",
    "            train_instance_type='ml.p3.2xlarge',\n",
    "            framework_version=\"1.4.1\",\n",
    "            py_version='py3',\n",
    "            hyperparameters=params,\n",
    "            output_path=output_location,\n",
    "            code_location=output_location,\n",
    "            sagemaker_session=session)\n",
    "\n",
    "mlp.fit({'train': s3_train_data})"
   ]
  },
  {
   "cell_type": "code",
   "execution_count": null,
   "metadata": {
    "scrolled": true
   },
   "outputs": [],
   "source": [
    "from sagemaker.predictor import json_serializer\n",
    "\n",
    "predictor = mlp.deploy(initial_instance_count=1,\n",
    "                       endpoint_name=\"mlp-fraud-endpoint\",\n",
    "                       instance_type='ml.p3.2xlarge')\n",
    "\n",
    "# Specify input and output formats.\n",
    "predictor.content_type = 'text/json'\n",
    "predictor.serializer = json_serializer\n",
    "predictor.deserializer = None"
   ]
  },
  {
   "cell_type": "code",
   "execution_count": null,
   "metadata": {},
   "outputs": [],
   "source": [
    "import json\n",
    "\n",
    "def predict(current_predictor, data, rows=500):\n",
    "    split_array = np.array_split(data, int(data.shape[0] / float(rows) + 1))\n",
    "    predictions = []\n",
    "    for array in split_array:\n",
    "        predictions.append(np.array(json.loads(current_predictor.predict(array.tolist()))))\n",
    "    return np.concatenate(tuple(predictions), axis=0)\n",
    "\n",
    "raw_preds = predict(predictor, test_X.values[:, 1:])\n",
    "y_preds = np.where(raw_preds > 0.5, 1, 0)"
   ]
  },
  {
   "cell_type": "code",
   "execution_count": null,
   "metadata": {},
   "outputs": [],
   "source": [
    "from sklearn.metrics import confusion_matrix, roc_curve, auc\n",
    "from matplotlib import pyplot as plt\n",
    "%matplotlib inline\n",
    "\n",
    "def print_metrics(y_true, y_predicted):\n",
    "\n",
    "    cm  = confusion_matrix(y_true, y_predicted)\n",
    "    true_neg, false_pos, false_neg, true_pos = cm.ravel()\n",
    "    cm = pd.DataFrame(np.array([[true_pos, false_pos], [false_neg, true_neg]]),\n",
    "                                    columns=[\"labels positive\", \"labels negative\"],\n",
    "                                    index=[\"predicted positive\", \"predicted negative\"])\n",
    "    \n",
    "    acc = (true_pos + true_neg)/(true_pos + true_neg + false_pos + false_neg)\n",
    "    precision = true_pos/(true_pos + false_pos) if (true_pos + false_pos) > 0 else 0\n",
    "    recall = true_pos/(true_pos + false_neg) if (true_pos + false_neg) > 0 else 0\n",
    "    f1 = 2*(precision*recall)/(precision + recall) if (precision + recall) > 0 else 0\n",
    "    print(\"Confusion Matrix:\")\n",
    "    print(pd.DataFrame(cm, columns=[\"labels positive\", \"labels negative\"], \n",
    "                       index=[\"predicted positive\", \"predicted negative\"]))\n",
    "    print(\"f1: {:.4f}, precision: {:.4f}, recall: {:.4f}, acc: {:.4f}\".format(f1, precision, recall, acc))\n",
    "    print()\n",
    "    \n",
    "def plot_roc_curve(fpr, tpr, roc_auc):\n",
    "    f = plt.figure()\n",
    "    lw = 2\n",
    "    plt.plot(fpr, tpr, color='darkorange',\n",
    "             lw=lw, label='ROC curve (area = %0.2f)' % roc_auc)\n",
    "    plt.plot([0, 1], [0, 1], color='navy', lw=lw, linestyle='--')\n",
    "    plt.xlim([0.0, 1.0])\n",
    "    plt.ylim([0.0, 1.05])\n",
    "    plt.xlabel('False Positive Rate')\n",
    "    plt.ylabel('True Positive Rate')\n",
    "    plt.title('Model ROC curve')\n",
    "    plt.legend(loc=\"lower right\")\n",
    "\n",
    "print_metrics(test_y, y_preds)\n",
    "fpr, tpr, _ = roc_curve(test_y, y_preds)\n",
    "roc_auc = auc(fpr, tpr)\n",
    "plot_roc_curve(fpr, tpr, roc_auc)"
   ]
  },
  {
   "cell_type": "code",
   "execution_count": null,
   "metadata": {},
   "outputs": [],
   "source": [
    "predictor.delete_endpoint()"
   ]
  }
 ],
 "metadata": {
  "kernelspec": {
   "display_name": "conda_python3",
   "language": "python",
   "name": "conda_python3"
  },
  "language_info": {
   "codemirror_mode": {
    "name": "ipython",
    "version": 3
   },
   "file_extension": ".py",
   "mimetype": "text/x-python",
   "name": "python",
   "nbconvert_exporter": "python",
   "pygments_lexer": "ipython3",
   "version": "3.6.10"
  }
 },
 "nbformat": 4,
 "nbformat_minor": 2
}
